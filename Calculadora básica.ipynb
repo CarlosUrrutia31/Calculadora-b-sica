{
 "cells": [
  {
   "cell_type": "markdown",
   "id": "b2814346",
   "metadata": {},
   "source": [
    "## Calculadora básica"
   ]
  },
  {
   "cell_type": "code",
   "execution_count": null,
   "id": "cd529da9",
   "metadata": {},
   "outputs": [],
   "source": [
    "n1 = float(input(\"Introduce tu primer número: \") )\n",
    "n2 = float(input(\"Introduce tu segundo número: \") )\n",
    "\n",
    "opcion = 0\n",
    "while True:\n",
    "    print(\"\"\"\n",
    "    Dime, ¿qué quieres hacer?\n",
    "    \n",
    "    1) Sumar los dos números\n",
    "    2) Restar los dos números\n",
    "    3) Multiplicar los dos números\n",
    "    4) Cambiar los números elegidos\n",
    "    5) Apagar calculadora\n",
    "    \"\"\")\n",
    "    opcion = int(input(\"Elige una opción: \") )     \n",
    "\n",
    "    if opcion == 1:\n",
    "        print(\" \")\n",
    "        print(\"RESULTADO: La suma de\",n1,\"+\",n2,\"es igual a\",n1+n2)\n",
    "    elif opcion == 2:\n",
    "        print(\" \")\n",
    "        print(\"RESULTADO: La resta de\",n1,\"-\",n2,\"es igual a\",n1-n2)\n",
    "    elif opcion == 3:\n",
    "        print(\" \")\n",
    "        print(\"RESULTADO: El producto de\",n1,\"*\",n2,\"es igual a\",n1*n2)\n",
    "    elif opcion == 4:\n",
    "        n1 = float(input(\"Introduce tu primer número: \") )\n",
    "        n2 = float(input(\"Introduce tu segundo número: \") )\n",
    "    elif opcion == 5:\n",
    "        break\n",
    "    else:\n",
    "        print(\"Opción incorrecta\")"
   ]
  }
 ],
 "metadata": {
  "kernelspec": {
   "display_name": "Python 3 (ipykernel)",
   "language": "python",
   "name": "python3"
  },
  "language_info": {
   "codemirror_mode": {
    "name": "ipython",
    "version": 3
   },
   "file_extension": ".py",
   "mimetype": "text/x-python",
   "name": "python",
   "nbconvert_exporter": "python",
   "pygments_lexer": "ipython3",
   "version": "3.9.7"
  }
 },
 "nbformat": 4,
 "nbformat_minor": 5
}
